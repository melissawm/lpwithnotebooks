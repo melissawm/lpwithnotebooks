{
 "cells": [
  {
   "cell_type": "markdown",
   "metadata": {
    "collapsed": true
   },
   "source": [
    "# Exemplo: Análise do IDEB"
   ]
  },
  {
   "cell_type": "markdown",
   "metadata": {
    "collapsed": true
   },
   "source": [
    "Neste notebook, vamos analisar dados relativos ao IDEB calculado por município no Brasil. Os dados estão no arquivo"
   ]
  },
  {
   "cell_type": "code",
   "execution_count": 51,
   "metadata": {
    "collapsed": true
   },
   "outputs": [],
   "source": [
    "arquivo = \"IDEB por Município Rede Federal Séries Finais (5ª a 8ª).xml\""
   ]
  },
  {
   "cell_type": "markdown",
   "metadata": {},
   "source": [
    "obtido no site <a href=\"http://dados.gov.br\">dados.gov.br</a>"
   ]
  },
  {
   "cell_type": "markdown",
   "metadata": {},
   "source": [
    "Como nosso arquivo é um .xml, vamos usar o módulo xml.etree.ElementTree para parsear o conteúdo do arquivo. Vamos abreviar o nome desse módulo por ET."
   ]
  },
  {
   "cell_type": "code",
   "execution_count": 52,
   "metadata": {
    "collapsed": true
   },
   "outputs": [],
   "source": [
    "import xml.etree.ElementTree as ET"
   ]
  },
  {
   "cell_type": "markdown",
   "metadata": {},
   "source": [
    "### O módulo ElementTree (ET)\n",
    "\n",
    "Um arquivo XML é um conjunto hierárquico de dados, e portanto a maneira mais natural de representar esses dados é através de uma árvore. Para isso, o módulo ET tem duas classes: a classe ElementTree representa o documento XML inteiro como uma árvore, e a classe Element representa um nó desta árvore. Todas as interações que ocorrem com o documento completo (por exemplo, leitura e escrita no arquivo) são feitas através da classe ElementTree; por outro lado, as interações com um elemento isolado do XML e seus subelementos são feitas através da classe Element.\n",
    "\n",
    "O método ET.parse retorna uma ElementTree."
   ]
  },
  {
   "cell_type": "code",
   "execution_count": 53,
   "metadata": {
    "collapsed": true
   },
   "outputs": [],
   "source": [
    "tree = ET.parse(arquivo)"
   ]
  },
  {
   "cell_type": "markdown",
   "metadata": {},
   "source": [
    "Para vermos o elemento raiz da árvore, usamos"
   ]
  },
  {
   "cell_type": "code",
   "execution_count": 54,
   "metadata": {
    "collapsed": true
   },
   "outputs": [],
   "source": [
    "root = tree.getroot()"
   ]
  },
  {
   "cell_type": "markdown",
   "metadata": {},
   "source": [
    "O objeto root, que é um Element, tem as propriedades *tag* e *attrib*, que é um dicionário de seus atributos."
   ]
  },
  {
   "cell_type": "code",
   "execution_count": 55,
   "metadata": {
    "action": "hide",
    "tags": [
     "codecomment"
    ]
   },
   "outputs": [
    {
     "data": {
      "text/plain": [
       "'result'"
      ]
     },
     "execution_count": 55,
     "metadata": {},
     "output_type": "execute_result"
    }
   ],
   "source": [
    "root.tag"
   ]
  },
  {
   "cell_type": "code",
   "execution_count": 56,
   "metadata": {
    "action": "hide",
    "tags": [
     "codecomment"
    ]
   },
   "outputs": [
    {
     "data": {
      "text/plain": [
       "{}"
      ]
     },
     "execution_count": 56,
     "metadata": {},
     "output_type": "execute_result"
    }
   ],
   "source": [
    "root.attrib"
   ]
  },
  {
   "cell_type": "markdown",
   "metadata": {},
   "source": [
    "Para acessarmos cada um dos nós do elemento raiz, iteramos nestes nós (que são, também, Elements):"
   ]
  },
  {
   "cell_type": "code",
   "execution_count": 57,
   "metadata": {
    "tags": [
     "codecomment"
    ]
   },
   "outputs": [
    {
     "name": "stdout",
     "output_type": "stream",
     "text": [
      "url {}\n",
      "id {}\n",
      "nome {}\n",
      "nome_estendido {}\n",
      "descricao {}\n",
      "inicio {}\n",
      "final {}\n",
      "formatacao {}\n",
      "data_atualizacao {}\n",
      "aditividade {}\n",
      "url_origem {}\n",
      "tempo_aditividade {}\n",
      "portal_dados_abertos {}\n",
      "disponibilizacao {}\n",
      "estado {}\n",
      "fonte_gestora {}\n",
      "fonte_provedora {}\n",
      "grupo_informacao {}\n",
      "base_territorial {}\n",
      "periodicidade {}\n",
      "multiplicador {}\n",
      "produto {}\n",
      "publicacao {}\n",
      "unidade_medida {}\n",
      "orgao_primeiro_escalao {}\n",
      "valores {}\n"
     ]
    }
   ],
   "source": [
    "for child in root:\n",
    "    print(child.tag, child.attrib)"
   ]
  },
  {
   "cell_type": "markdown",
   "metadata": {},
   "source": [
    "### Selecionando os dados"
   ]
  },
  {
   "cell_type": "markdown",
   "metadata": {},
   "source": [
    "Agora que temos uma ideia melhor dos dados a serem tratados, vamos construir um DataFrame do pandas com o que nos interessa. Primeiramente, observamos que somente o último nó nos interessa, já que todos os outros compõem o cabeçalho do arquivo XML. Assim, vamos explorar o nó *valores*:"
   ]
  },
  {
   "cell_type": "code",
   "execution_count": 58,
   "metadata": {
    "collapsed": true
   },
   "outputs": [],
   "source": [
    "valoresIDEB = root.find('valores')"
   ]
  },
  {
   "cell_type": "markdown",
   "metadata": {},
   "source": [
    "Observe que temos mais uma camada de dados:"
   ]
  },
  {
   "cell_type": "code",
   "execution_count": 59,
   "metadata": {
    "tags": [
     "codecomment"
    ]
   },
   "outputs": [
    {
     "data": {
      "text/plain": [
       "<Element 'valores' at 0x7f66cce61958>"
      ]
     },
     "execution_count": 59,
     "metadata": {},
     "output_type": "execute_result"
    }
   ],
   "source": [
    "valoresIDEB"
   ]
  },
  {
   "cell_type": "code",
   "execution_count": 60,
   "metadata": {
    "tags": [
     "codecomment"
    ]
   },
   "outputs": [
    {
     "data": {
      "text/plain": [
       "<Element 'entry' at 0x7f66cce619a8>"
      ]
     },
     "execution_count": 60,
     "metadata": {},
     "output_type": "execute_result"
    }
   ],
   "source": [
    "valoresIDEB[0]"
   ]
  },
  {
   "cell_type": "markdown",
   "metadata": {},
   "source": [
    "Assim, podemos por exemplo explorar os nós *netos* da árvore:"
   ]
  },
  {
   "cell_type": "code",
   "execution_count": 61,
   "metadata": {
    "tags": [
     "codecomment"
    ]
   },
   "outputs": [
    {
     "name": "stdout",
     "output_type": "stream",
     "text": [
      "valor {}\n",
      "municipio_ibge {}\n",
      "ano {}\n",
      "valor {}\n",
      "municipio_ibge {}\n",
      "ano {}\n",
      "valor {}\n",
      "municipio_ibge {}\n",
      "ano {}\n",
      "valor {}\n",
      "municipio_ibge {}\n",
      "ano {}\n",
      "valor {}\n",
      "municipio_ibge {}\n",
      "ano {}\n",
      "valor {}\n",
      "municipio_ibge {}\n",
      "ano {}\n",
      "valor {}\n",
      "municipio_ibge {}\n",
      "ano {}\n",
      "valor {}\n",
      "municipio_ibge {}\n",
      "ano {}\n",
      "valor {}\n",
      "municipio_ibge {}\n",
      "ano {}\n",
      "valor {}\n",
      "municipio_ibge {}\n",
      "ano {}\n",
      "valor {}\n",
      "municipio_ibge {}\n",
      "ano {}\n",
      "valor {}\n",
      "municipio_ibge {}\n",
      "ano {}\n",
      "valor {}\n",
      "municipio_ibge {}\n",
      "ano {}\n",
      "valor {}\n",
      "municipio_ibge {}\n",
      "ano {}\n",
      "valor {}\n",
      "municipio_ibge {}\n",
      "ano {}\n",
      "valor {}\n",
      "municipio_ibge {}\n",
      "ano {}\n",
      "valor {}\n",
      "municipio_ibge {}\n",
      "ano {}\n",
      "valor {}\n",
      "municipio_ibge {}\n",
      "ano {}\n",
      "valor {}\n",
      "municipio_ibge {}\n",
      "ano {}\n",
      "valor {}\n",
      "municipio_ibge {}\n",
      "ano {}\n",
      "valor {}\n",
      "municipio_ibge {}\n",
      "ano {}\n",
      "valor {}\n",
      "municipio_ibge {}\n",
      "ano {}\n",
      "valor {}\n",
      "municipio_ibge {}\n",
      "ano {}\n",
      "valor {}\n",
      "municipio_ibge {}\n",
      "ano {}\n",
      "valor {}\n",
      "municipio_ibge {}\n",
      "ano {}\n",
      "valor {}\n",
      "municipio_ibge {}\n",
      "ano {}\n",
      "valor {}\n",
      "municipio_ibge {}\n",
      "ano {}\n",
      "valor {}\n",
      "municipio_ibge {}\n",
      "ano {}\n",
      "valor {}\n",
      "municipio_ibge {}\n",
      "ano {}\n",
      "valor {}\n",
      "municipio_ibge {}\n",
      "ano {}\n",
      "valor {}\n",
      "municipio_ibge {}\n",
      "ano {}\n",
      "valor {}\n",
      "municipio_ibge {}\n",
      "ano {}\n",
      "valor {}\n",
      "municipio_ibge {}\n",
      "ano {}\n",
      "valor {}\n",
      "municipio_ibge {}\n",
      "ano {}\n",
      "valor {}\n",
      "municipio_ibge {}\n",
      "ano {}\n",
      "valor {}\n",
      "municipio_ibge {}\n",
      "ano {}\n",
      "valor {}\n",
      "municipio_ibge {}\n",
      "ano {}\n",
      "valor {}\n",
      "municipio_ibge {}\n",
      "ano {}\n",
      "valor {}\n",
      "municipio_ibge {}\n",
      "ano {}\n"
     ]
    }
   ],
   "source": [
    "for child in valoresIDEB:\n",
    "    for grandchild in child:\n",
    "        print(grandchild.tag, grandchild.attrib)"
   ]
  },
  {
   "cell_type": "markdown",
   "metadata": {},
   "source": [
    "Vamos transformar agora os dados em um DataFrame."
   ]
  },
  {
   "cell_type": "code",
   "execution_count": 62,
   "metadata": {},
   "outputs": [],
   "source": [
    "data = []\n",
    "for child in valoresIDEB:\n",
    "    data.append([float(child[0].text), child[1].text, child[2].text])"
   ]
  },
  {
   "cell_type": "code",
   "execution_count": 63,
   "metadata": {
    "tags": [
     "codecomment"
    ]
   },
   "outputs": [
    {
     "data": {
      "text/plain": [
       "[[4.7, '120040', '2009'],\n",
       " [6.0, '130260', '2009'],\n",
       " [5.9, '140010', '2009'],\n",
       " [5.5, '150140', '2009'],\n",
       " [4.0, '211130', '2009'],\n",
       " [6.3, '220190', '2009'],\n",
       " [6.9, '230440', '2009'],\n",
       " [7.1, '261160', '2009'],\n",
       " [6.5, '280670', '2009'],\n",
       " [7.1, '292740', '2009'],\n",
       " [6.0, '310620', '2009'],\n",
       " [6.3, '313670', '2009'],\n",
       " [6.4, '317020', '2009'],\n",
       " [5.7, '330455', '2009'],\n",
       " [6.9, '410690', '2009'],\n",
       " [5.7, '420540', '2009'],\n",
       " [5.8, '431490', '2009'],\n",
       " [7.3, '431690', '2009'],\n",
       " [7.1, '500270', '2009'],\n",
       " [5.3, '520870', '2009'],\n",
       " [4.4, '120040', '2007'],\n",
       " [5.3, '140010', '2007'],\n",
       " [5.2, '150140', '2007'],\n",
       " [3.4, '211130', '2007'],\n",
       " [4.3, '220190', '2007'],\n",
       " [6.8, '230440', '2007'],\n",
       " [7.5, '261160', '2007'],\n",
       " [5.4, '280670', '2007'],\n",
       " [7.2, '292740', '2007'],\n",
       " [5.5, '310620', '2007'],\n",
       " [7.0, '313670', '2007'],\n",
       " [6.0, '317020', '2007'],\n",
       " [6.1, '330455', '2007'],\n",
       " [5.8, '420540', '2007'],\n",
       " [6.2, '431490', '2007'],\n",
       " [6.5, '431690', '2007'],\n",
       " [6.5, '500270', '2007'],\n",
       " [5.5, '520870', '2007'],\n",
       " [6.7, '530010', '2007']]"
      ]
     },
     "execution_count": 63,
     "metadata": {},
     "output_type": "execute_result"
    }
   ],
   "source": [
    "data"
   ]
  },
  {
   "cell_type": "markdown",
   "metadata": {},
   "source": [
    "Como a biblioteca <a href=\"http://pandas.pydata.org/\">Pandas</a> está na moda ;) vamos utilizá-la para tratar e armazenar os dados. Mas vamos chamar a biblioteca pandas com um nome mais curto, pd."
   ]
  },
  {
   "cell_type": "code",
   "execution_count": 64,
   "metadata": {
    "collapsed": true
   },
   "outputs": [],
   "source": [
    "import pandas as pd"
   ]
  },
  {
   "cell_type": "markdown",
   "metadata": {},
   "source": [
    "Inicialmente, criamos um DataFrame, ou seja, uma tabela, com os dados que já temos."
   ]
  },
  {
   "cell_type": "code",
   "execution_count": 65,
   "metadata": {},
   "outputs": [],
   "source": [
    "tabelaInicial = pd.DataFrame(data, columns = [\"Valor\", \"Municipio\", \"Ano\"])"
   ]
  },
  {
   "cell_type": "code",
   "execution_count": 66,
   "metadata": {
    "tags": [
     "codecomment"
    ]
   },
   "outputs": [
    {
     "data": {
      "text/html": [
       "<div>\n",
       "<table border=\"1\" class=\"dataframe\">\n",
       "  <thead>\n",
       "    <tr style=\"text-align: right;\">\n",
       "      <th></th>\n",
       "      <th>Valor</th>\n",
       "      <th>Municipio</th>\n",
       "      <th>Ano</th>\n",
       "    </tr>\n",
       "  </thead>\n",
       "  <tbody>\n",
       "    <tr>\n",
       "      <th>0</th>\n",
       "      <td>4.7</td>\n",
       "      <td>120040</td>\n",
       "      <td>2009</td>\n",
       "    </tr>\n",
       "    <tr>\n",
       "      <th>1</th>\n",
       "      <td>6.0</td>\n",
       "      <td>130260</td>\n",
       "      <td>2009</td>\n",
       "    </tr>\n",
       "    <tr>\n",
       "      <th>2</th>\n",
       "      <td>5.9</td>\n",
       "      <td>140010</td>\n",
       "      <td>2009</td>\n",
       "    </tr>\n",
       "    <tr>\n",
       "      <th>3</th>\n",
       "      <td>5.5</td>\n",
       "      <td>150140</td>\n",
       "      <td>2009</td>\n",
       "    </tr>\n",
       "    <tr>\n",
       "      <th>4</th>\n",
       "      <td>4.0</td>\n",
       "      <td>211130</td>\n",
       "      <td>2009</td>\n",
       "    </tr>\n",
       "    <tr>\n",
       "      <th>5</th>\n",
       "      <td>6.3</td>\n",
       "      <td>220190</td>\n",
       "      <td>2009</td>\n",
       "    </tr>\n",
       "    <tr>\n",
       "      <th>6</th>\n",
       "      <td>6.9</td>\n",
       "      <td>230440</td>\n",
       "      <td>2009</td>\n",
       "    </tr>\n",
       "    <tr>\n",
       "      <th>7</th>\n",
       "      <td>7.1</td>\n",
       "      <td>261160</td>\n",
       "      <td>2009</td>\n",
       "    </tr>\n",
       "    <tr>\n",
       "      <th>8</th>\n",
       "      <td>6.5</td>\n",
       "      <td>280670</td>\n",
       "      <td>2009</td>\n",
       "    </tr>\n",
       "    <tr>\n",
       "      <th>9</th>\n",
       "      <td>7.1</td>\n",
       "      <td>292740</td>\n",
       "      <td>2009</td>\n",
       "    </tr>\n",
       "    <tr>\n",
       "      <th>10</th>\n",
       "      <td>6.0</td>\n",
       "      <td>310620</td>\n",
       "      <td>2009</td>\n",
       "    </tr>\n",
       "    <tr>\n",
       "      <th>11</th>\n",
       "      <td>6.3</td>\n",
       "      <td>313670</td>\n",
       "      <td>2009</td>\n",
       "    </tr>\n",
       "    <tr>\n",
       "      <th>12</th>\n",
       "      <td>6.4</td>\n",
       "      <td>317020</td>\n",
       "      <td>2009</td>\n",
       "    </tr>\n",
       "    <tr>\n",
       "      <th>13</th>\n",
       "      <td>5.7</td>\n",
       "      <td>330455</td>\n",
       "      <td>2009</td>\n",
       "    </tr>\n",
       "    <tr>\n",
       "      <th>14</th>\n",
       "      <td>6.9</td>\n",
       "      <td>410690</td>\n",
       "      <td>2009</td>\n",
       "    </tr>\n",
       "    <tr>\n",
       "      <th>15</th>\n",
       "      <td>5.7</td>\n",
       "      <td>420540</td>\n",
       "      <td>2009</td>\n",
       "    </tr>\n",
       "    <tr>\n",
       "      <th>16</th>\n",
       "      <td>5.8</td>\n",
       "      <td>431490</td>\n",
       "      <td>2009</td>\n",
       "    </tr>\n",
       "    <tr>\n",
       "      <th>17</th>\n",
       "      <td>7.3</td>\n",
       "      <td>431690</td>\n",
       "      <td>2009</td>\n",
       "    </tr>\n",
       "    <tr>\n",
       "      <th>18</th>\n",
       "      <td>7.1</td>\n",
       "      <td>500270</td>\n",
       "      <td>2009</td>\n",
       "    </tr>\n",
       "    <tr>\n",
       "      <th>19</th>\n",
       "      <td>5.3</td>\n",
       "      <td>520870</td>\n",
       "      <td>2009</td>\n",
       "    </tr>\n",
       "    <tr>\n",
       "      <th>20</th>\n",
       "      <td>4.4</td>\n",
       "      <td>120040</td>\n",
       "      <td>2007</td>\n",
       "    </tr>\n",
       "    <tr>\n",
       "      <th>21</th>\n",
       "      <td>5.3</td>\n",
       "      <td>140010</td>\n",
       "      <td>2007</td>\n",
       "    </tr>\n",
       "    <tr>\n",
       "      <th>22</th>\n",
       "      <td>5.2</td>\n",
       "      <td>150140</td>\n",
       "      <td>2007</td>\n",
       "    </tr>\n",
       "    <tr>\n",
       "      <th>23</th>\n",
       "      <td>3.4</td>\n",
       "      <td>211130</td>\n",
       "      <td>2007</td>\n",
       "    </tr>\n",
       "    <tr>\n",
       "      <th>24</th>\n",
       "      <td>4.3</td>\n",
       "      <td>220190</td>\n",
       "      <td>2007</td>\n",
       "    </tr>\n",
       "    <tr>\n",
       "      <th>25</th>\n",
       "      <td>6.8</td>\n",
       "      <td>230440</td>\n",
       "      <td>2007</td>\n",
       "    </tr>\n",
       "    <tr>\n",
       "      <th>26</th>\n",
       "      <td>7.5</td>\n",
       "      <td>261160</td>\n",
       "      <td>2007</td>\n",
       "    </tr>\n",
       "    <tr>\n",
       "      <th>27</th>\n",
       "      <td>5.4</td>\n",
       "      <td>280670</td>\n",
       "      <td>2007</td>\n",
       "    </tr>\n",
       "    <tr>\n",
       "      <th>28</th>\n",
       "      <td>7.2</td>\n",
       "      <td>292740</td>\n",
       "      <td>2007</td>\n",
       "    </tr>\n",
       "    <tr>\n",
       "      <th>29</th>\n",
       "      <td>5.5</td>\n",
       "      <td>310620</td>\n",
       "      <td>2007</td>\n",
       "    </tr>\n",
       "    <tr>\n",
       "      <th>30</th>\n",
       "      <td>7.0</td>\n",
       "      <td>313670</td>\n",
       "      <td>2007</td>\n",
       "    </tr>\n",
       "    <tr>\n",
       "      <th>31</th>\n",
       "      <td>6.0</td>\n",
       "      <td>317020</td>\n",
       "      <td>2007</td>\n",
       "    </tr>\n",
       "    <tr>\n",
       "      <th>32</th>\n",
       "      <td>6.1</td>\n",
       "      <td>330455</td>\n",
       "      <td>2007</td>\n",
       "    </tr>\n",
       "    <tr>\n",
       "      <th>33</th>\n",
       "      <td>5.8</td>\n",
       "      <td>420540</td>\n",
       "      <td>2007</td>\n",
       "    </tr>\n",
       "    <tr>\n",
       "      <th>34</th>\n",
       "      <td>6.2</td>\n",
       "      <td>431490</td>\n",
       "      <td>2007</td>\n",
       "    </tr>\n",
       "    <tr>\n",
       "      <th>35</th>\n",
       "      <td>6.5</td>\n",
       "      <td>431690</td>\n",
       "      <td>2007</td>\n",
       "    </tr>\n",
       "    <tr>\n",
       "      <th>36</th>\n",
       "      <td>6.5</td>\n",
       "      <td>500270</td>\n",
       "      <td>2007</td>\n",
       "    </tr>\n",
       "    <tr>\n",
       "      <th>37</th>\n",
       "      <td>5.5</td>\n",
       "      <td>520870</td>\n",
       "      <td>2007</td>\n",
       "    </tr>\n",
       "    <tr>\n",
       "      <th>38</th>\n",
       "      <td>6.7</td>\n",
       "      <td>530010</td>\n",
       "      <td>2007</td>\n",
       "    </tr>\n",
       "  </tbody>\n",
       "</table>\n",
       "</div>"
      ],
      "text/plain": [
       "    Valor Municipio   Ano\n",
       "0     4.7    120040  2009\n",
       "1     6.0    130260  2009\n",
       "2     5.9    140010  2009\n",
       "3     5.5    150140  2009\n",
       "4     4.0    211130  2009\n",
       "5     6.3    220190  2009\n",
       "6     6.9    230440  2009\n",
       "7     7.1    261160  2009\n",
       "8     6.5    280670  2009\n",
       "9     7.1    292740  2009\n",
       "10    6.0    310620  2009\n",
       "11    6.3    313670  2009\n",
       "12    6.4    317020  2009\n",
       "13    5.7    330455  2009\n",
       "14    6.9    410690  2009\n",
       "15    5.7    420540  2009\n",
       "16    5.8    431490  2009\n",
       "17    7.3    431690  2009\n",
       "18    7.1    500270  2009\n",
       "19    5.3    520870  2009\n",
       "20    4.4    120040  2007\n",
       "21    5.3    140010  2007\n",
       "22    5.2    150140  2007\n",
       "23    3.4    211130  2007\n",
       "24    4.3    220190  2007\n",
       "25    6.8    230440  2007\n",
       "26    7.5    261160  2007\n",
       "27    5.4    280670  2007\n",
       "28    7.2    292740  2007\n",
       "29    5.5    310620  2007\n",
       "30    7.0    313670  2007\n",
       "31    6.0    317020  2007\n",
       "32    6.1    330455  2007\n",
       "33    5.8    420540  2007\n",
       "34    6.2    431490  2007\n",
       "35    6.5    431690  2007\n",
       "36    6.5    500270  2007\n",
       "37    5.5    520870  2007\n",
       "38    6.7    530010  2007"
      ]
     },
     "execution_count": 66,
     "metadata": {},
     "output_type": "execute_result"
    }
   ],
   "source": [
    "tabelaInicial"
   ]
  },
  {
   "cell_type": "markdown",
   "metadata": {},
   "source": [
    "Observe que nesta tabela temos dados de 2007 e 2009. Não vamos usar os dados relativos a 2007 por simplicidade."
   ]
  },
  {
   "cell_type": "code",
   "execution_count": 67,
   "metadata": {},
   "outputs": [],
   "source": [
    "tabelaInicial = tabelaInicial.loc[0:19]"
   ]
  },
  {
   "cell_type": "markdown",
   "metadata": {},
   "source": [
    "### Obtendo códigos IBGE para os municípios\n",
    "\n",
    "Na tabelaInicial, os municípios não estão identificados por nome, e sim pelo seu código IBGE. Para lermos o arquivo excel em que temos a tabela dos municípios brasileiros (atualizada em 2014) e seus respectivos códigos de 7 dígitos - os códigos incluem um dígito verificador ao final - usamos o módulo xlrd, que não estará instalado junto com o pandas por definição (você deve instalá-lo manualmente) se quiser executar o comando abaixo. Veja <a href=\"https://pypi.python.org/pypi/xlrd\">aqui</a>, por exemplo."
   ]
  },
  {
   "cell_type": "code",
   "execution_count": 68,
   "metadata": {},
   "outputs": [],
   "source": [
    "dadosMunicipioIBGE = pd.read_excel(\"DTB_2014_Municipio.xls\")"
   ]
  },
  {
   "cell_type": "markdown",
   "metadata": {},
   "source": [
    "Podemos olhar o tipo de tabela que temos usando o método *head* do pandas."
   ]
  },
  {
   "cell_type": "code",
   "execution_count": 69,
   "metadata": {
    "tags": [
     "codecomment"
    ]
   },
   "outputs": [
    {
     "data": {
      "text/html": [
       "<div>\n",
       "<table border=\"1\" class=\"dataframe\">\n",
       "  <thead>\n",
       "    <tr style=\"text-align: right;\">\n",
       "      <th></th>\n",
       "      <th>UF</th>\n",
       "      <th>Nome_UF</th>\n",
       "      <th>Mesorregião Geográfica</th>\n",
       "      <th>Nome_Mesorregião</th>\n",
       "      <th>Microrregião Geográfica</th>\n",
       "      <th>Nome_Microrregião</th>\n",
       "      <th>Município</th>\n",
       "      <th>Cod Municipio Completo</th>\n",
       "      <th>Nome_Município</th>\n",
       "    </tr>\n",
       "  </thead>\n",
       "  <tbody>\n",
       "    <tr>\n",
       "      <th>0</th>\n",
       "      <td>11</td>\n",
       "      <td>Rondônia</td>\n",
       "      <td>2</td>\n",
       "      <td>Leste Rondoniense</td>\n",
       "      <td>6</td>\n",
       "      <td>Cacoal</td>\n",
       "      <td>15</td>\n",
       "      <td>1100015</td>\n",
       "      <td>Alta Floresta D'Oeste</td>\n",
       "    </tr>\n",
       "    <tr>\n",
       "      <th>1</th>\n",
       "      <td>11</td>\n",
       "      <td>Rondônia</td>\n",
       "      <td>2</td>\n",
       "      <td>Leste Rondoniense</td>\n",
       "      <td>3</td>\n",
       "      <td>Ariquemes</td>\n",
       "      <td>23</td>\n",
       "      <td>1100023</td>\n",
       "      <td>Ariquemes</td>\n",
       "    </tr>\n",
       "    <tr>\n",
       "      <th>2</th>\n",
       "      <td>11</td>\n",
       "      <td>Rondônia</td>\n",
       "      <td>2</td>\n",
       "      <td>Leste Rondoniense</td>\n",
       "      <td>8</td>\n",
       "      <td>Colorado do Oeste</td>\n",
       "      <td>31</td>\n",
       "      <td>1100031</td>\n",
       "      <td>Cabixi</td>\n",
       "    </tr>\n",
       "    <tr>\n",
       "      <th>3</th>\n",
       "      <td>11</td>\n",
       "      <td>Rondônia</td>\n",
       "      <td>2</td>\n",
       "      <td>Leste Rondoniense</td>\n",
       "      <td>6</td>\n",
       "      <td>Cacoal</td>\n",
       "      <td>49</td>\n",
       "      <td>1100049</td>\n",
       "      <td>Cacoal</td>\n",
       "    </tr>\n",
       "    <tr>\n",
       "      <th>4</th>\n",
       "      <td>11</td>\n",
       "      <td>Rondônia</td>\n",
       "      <td>2</td>\n",
       "      <td>Leste Rondoniense</td>\n",
       "      <td>8</td>\n",
       "      <td>Colorado do Oeste</td>\n",
       "      <td>56</td>\n",
       "      <td>1100056</td>\n",
       "      <td>Cerejeiras</td>\n",
       "    </tr>\n",
       "  </tbody>\n",
       "</table>\n",
       "</div>"
      ],
      "text/plain": [
       "   UF   Nome_UF  Mesorregião Geográfica   Nome_Mesorregião  \\\n",
       "0  11  Rondônia                       2  Leste Rondoniense   \n",
       "1  11  Rondônia                       2  Leste Rondoniense   \n",
       "2  11  Rondônia                       2  Leste Rondoniense   \n",
       "3  11  Rondônia                       2  Leste Rondoniense   \n",
       "4  11  Rondônia                       2  Leste Rondoniense   \n",
       "\n",
       "   Microrregião Geográfica  Nome_Microrregião  Município  \\\n",
       "0                        6             Cacoal         15   \n",
       "1                        3          Ariquemes         23   \n",
       "2                        8  Colorado do Oeste         31   \n",
       "3                        6             Cacoal         49   \n",
       "4                        8  Colorado do Oeste         56   \n",
       "\n",
       "   Cod Municipio Completo         Nome_Município  \n",
       "0                 1100015  Alta Floresta D'Oeste  \n",
       "1                 1100023              Ariquemes  \n",
       "2                 1100031                 Cabixi  \n",
       "3                 1100049                 Cacoal  \n",
       "4                 1100056             Cerejeiras  "
      ]
     },
     "execution_count": 69,
     "metadata": {},
     "output_type": "execute_result"
    }
   ],
   "source": [
    "dadosMunicipioIBGE.head()"
   ]
  },
  {
   "cell_type": "markdown",
   "metadata": {},
   "source": [
    "Como não são todos os dados que nos interessam, vamos selecionar apenas as colunas \"Nome_UF\" (pois pode ser interessante referenciarmos o estado da federação mais tarde), \"Cod Municipio Completo\" e \"Nome_Município\"."
   ]
  },
  {
   "cell_type": "code",
   "execution_count": 70,
   "metadata": {},
   "outputs": [],
   "source": [
    "dadosMunicipioIBGE = dadosMunicipioIBGE[[\"Nome_UF\", \"Cod Municipio Completo\", \"Nome_Município\"]]"
   ]
  },
  {
   "cell_type": "markdown",
   "metadata": {},
   "source": [
    "Em seguida, precisamos selecionar na tabela completa dadosMunicipioIBGE os dados dos municípios presentes na tabelaInicial contendo os valores calculados do IDEB. Para isso, vamos extrair dos dois DataFrames as colunas correspondentes aos codigos de município (lembrando que nos dadosMunicipioIBGE os códigos contém um dígito verificador que não será utilizado):"
   ]
  },
  {
   "cell_type": "code",
   "execution_count": 71,
   "metadata": {},
   "outputs": [],
   "source": [
    "listaMunicipiosInicial = tabelaInicial[\"Municipio\"]\n",
    "listaMunicipios = dadosMunicipioIBGE[\"Cod Municipio Completo\"].map(lambda x: str(x)[0:6])"
   ]
  },
  {
   "cell_type": "markdown",
   "metadata": {},
   "source": [
    "Observe que usamos acima o método map para transformar os dados numéricos em string, e depois extrair o último dígito.\n",
    "\n",
    "Agora, ambos *listaMunicípiosInicial* e *listaMunicipios* são objetos Series do pandas. Para obtermos os índices dos municípios para os quais temos informação do IDEB, vamos primeiro identificar quais códigos **não** constam da listaMunicipiosInicial:  "
   ]
  },
  {
   "cell_type": "code",
   "execution_count": 72,
   "metadata": {
    "collapsed": true
   },
   "outputs": [],
   "source": [
    "indicesMunicipios = listaMunicipios[~listaMunicipios.isin(listaMunicipiosInicial)]"
   ]
  },
  {
   "cell_type": "markdown",
   "metadata": {},
   "source": [
    "E agora vamos extrair as linhas correspondentes na tabela dadosMunicipioIBGE."
   ]
  },
  {
   "cell_type": "code",
   "execution_count": 73,
   "metadata": {},
   "outputs": [],
   "source": [
    "new = dadosMunicipioIBGE.drop(indicesMunicipios.index).reset_index(drop=True)"
   ]
  },
  {
   "cell_type": "markdown",
   "metadata": {},
   "source": [
    "Por fim, vamos criar uma nova tabela (DataFrame) juntando nome e valor do IDEB calculado na tabelaInicial."
   ]
  },
  {
   "cell_type": "code",
   "execution_count": 74,
   "metadata": {
    "collapsed": true
   },
   "outputs": [],
   "source": [
    "dadosFinais = pd.concat([new, tabelaInicial], axis=1)"
   ]
  },
  {
   "cell_type": "markdown",
   "metadata": {},
   "source": [
    "A tabela final é"
   ]
  },
  {
   "cell_type": "code",
   "execution_count": 75,
   "metadata": {},
   "outputs": [
    {
     "data": {
      "text/html": [
       "<div>\n",
       "<table border=\"1\" class=\"dataframe\">\n",
       "  <thead>\n",
       "    <tr style=\"text-align: right;\">\n",
       "      <th></th>\n",
       "      <th>Nome_UF</th>\n",
       "      <th>Cod Municipio Completo</th>\n",
       "      <th>Nome_Município</th>\n",
       "      <th>Valor</th>\n",
       "      <th>Municipio</th>\n",
       "      <th>Ano</th>\n",
       "    </tr>\n",
       "  </thead>\n",
       "  <tbody>\n",
       "    <tr>\n",
       "      <th>0</th>\n",
       "      <td>Acre</td>\n",
       "      <td>1200401</td>\n",
       "      <td>Rio Branco</td>\n",
       "      <td>4.7</td>\n",
       "      <td>120040</td>\n",
       "      <td>2009</td>\n",
       "    </tr>\n",
       "    <tr>\n",
       "      <th>1</th>\n",
       "      <td>Amazonas</td>\n",
       "      <td>1302603</td>\n",
       "      <td>Manaus</td>\n",
       "      <td>6.0</td>\n",
       "      <td>130260</td>\n",
       "      <td>2009</td>\n",
       "    </tr>\n",
       "    <tr>\n",
       "      <th>2</th>\n",
       "      <td>Roraima</td>\n",
       "      <td>1400100</td>\n",
       "      <td>Boa Vista</td>\n",
       "      <td>5.9</td>\n",
       "      <td>140010</td>\n",
       "      <td>2009</td>\n",
       "    </tr>\n",
       "    <tr>\n",
       "      <th>3</th>\n",
       "      <td>Pará</td>\n",
       "      <td>1501402</td>\n",
       "      <td>Belém</td>\n",
       "      <td>5.5</td>\n",
       "      <td>150140</td>\n",
       "      <td>2009</td>\n",
       "    </tr>\n",
       "    <tr>\n",
       "      <th>4</th>\n",
       "      <td>Maranhão</td>\n",
       "      <td>2111300</td>\n",
       "      <td>São Luís</td>\n",
       "      <td>4.0</td>\n",
       "      <td>211130</td>\n",
       "      <td>2009</td>\n",
       "    </tr>\n",
       "    <tr>\n",
       "      <th>5</th>\n",
       "      <td>Piauí</td>\n",
       "      <td>2201903</td>\n",
       "      <td>Bom Jesus</td>\n",
       "      <td>6.3</td>\n",
       "      <td>220190</td>\n",
       "      <td>2009</td>\n",
       "    </tr>\n",
       "    <tr>\n",
       "      <th>6</th>\n",
       "      <td>Ceará</td>\n",
       "      <td>2304400</td>\n",
       "      <td>Fortaleza</td>\n",
       "      <td>6.9</td>\n",
       "      <td>230440</td>\n",
       "      <td>2009</td>\n",
       "    </tr>\n",
       "    <tr>\n",
       "      <th>7</th>\n",
       "      <td>Pernambuco</td>\n",
       "      <td>2611606</td>\n",
       "      <td>Recife</td>\n",
       "      <td>7.1</td>\n",
       "      <td>261160</td>\n",
       "      <td>2009</td>\n",
       "    </tr>\n",
       "    <tr>\n",
       "      <th>8</th>\n",
       "      <td>Sergipe</td>\n",
       "      <td>2806701</td>\n",
       "      <td>São Cristóvão</td>\n",
       "      <td>6.5</td>\n",
       "      <td>280670</td>\n",
       "      <td>2009</td>\n",
       "    </tr>\n",
       "    <tr>\n",
       "      <th>9</th>\n",
       "      <td>Bahia</td>\n",
       "      <td>2927408</td>\n",
       "      <td>Salvador</td>\n",
       "      <td>7.1</td>\n",
       "      <td>292740</td>\n",
       "      <td>2009</td>\n",
       "    </tr>\n",
       "    <tr>\n",
       "      <th>10</th>\n",
       "      <td>Minas Gerais</td>\n",
       "      <td>3106200</td>\n",
       "      <td>Belo Horizonte</td>\n",
       "      <td>6.0</td>\n",
       "      <td>310620</td>\n",
       "      <td>2009</td>\n",
       "    </tr>\n",
       "    <tr>\n",
       "      <th>11</th>\n",
       "      <td>Minas Gerais</td>\n",
       "      <td>3136702</td>\n",
       "      <td>Juiz de Fora</td>\n",
       "      <td>6.3</td>\n",
       "      <td>313670</td>\n",
       "      <td>2009</td>\n",
       "    </tr>\n",
       "    <tr>\n",
       "      <th>12</th>\n",
       "      <td>Minas Gerais</td>\n",
       "      <td>3170206</td>\n",
       "      <td>Uberlândia</td>\n",
       "      <td>6.4</td>\n",
       "      <td>317020</td>\n",
       "      <td>2009</td>\n",
       "    </tr>\n",
       "    <tr>\n",
       "      <th>13</th>\n",
       "      <td>Rio de Janeiro</td>\n",
       "      <td>3304557</td>\n",
       "      <td>Rio de Janeiro</td>\n",
       "      <td>5.7</td>\n",
       "      <td>330455</td>\n",
       "      <td>2009</td>\n",
       "    </tr>\n",
       "    <tr>\n",
       "      <th>14</th>\n",
       "      <td>Paraná</td>\n",
       "      <td>4106902</td>\n",
       "      <td>Curitiba</td>\n",
       "      <td>6.9</td>\n",
       "      <td>410690</td>\n",
       "      <td>2009</td>\n",
       "    </tr>\n",
       "    <tr>\n",
       "      <th>15</th>\n",
       "      <td>Santa Catarina</td>\n",
       "      <td>4205407</td>\n",
       "      <td>Florianópolis</td>\n",
       "      <td>5.7</td>\n",
       "      <td>420540</td>\n",
       "      <td>2009</td>\n",
       "    </tr>\n",
       "    <tr>\n",
       "      <th>16</th>\n",
       "      <td>Rio Grande do Sul</td>\n",
       "      <td>4314902</td>\n",
       "      <td>Porto Alegre</td>\n",
       "      <td>5.8</td>\n",
       "      <td>431490</td>\n",
       "      <td>2009</td>\n",
       "    </tr>\n",
       "    <tr>\n",
       "      <th>17</th>\n",
       "      <td>Rio Grande do Sul</td>\n",
       "      <td>4316907</td>\n",
       "      <td>Santa Maria</td>\n",
       "      <td>7.3</td>\n",
       "      <td>431690</td>\n",
       "      <td>2009</td>\n",
       "    </tr>\n",
       "    <tr>\n",
       "      <th>18</th>\n",
       "      <td>Mato Grosso do Sul</td>\n",
       "      <td>5002704</td>\n",
       "      <td>Campo Grande</td>\n",
       "      <td>7.1</td>\n",
       "      <td>500270</td>\n",
       "      <td>2009</td>\n",
       "    </tr>\n",
       "    <tr>\n",
       "      <th>19</th>\n",
       "      <td>Goiás</td>\n",
       "      <td>5208707</td>\n",
       "      <td>Goiânia</td>\n",
       "      <td>5.3</td>\n",
       "      <td>520870</td>\n",
       "      <td>2009</td>\n",
       "    </tr>\n",
       "  </tbody>\n",
       "</table>\n",
       "</div>"
      ],
      "text/plain": [
       "               Nome_UF  Cod Municipio Completo  Nome_Município  Valor  \\\n",
       "0                 Acre                 1200401      Rio Branco    4.7   \n",
       "1             Amazonas                 1302603          Manaus    6.0   \n",
       "2              Roraima                 1400100       Boa Vista    5.9   \n",
       "3                 Pará                 1501402           Belém    5.5   \n",
       "4             Maranhão                 2111300        São Luís    4.0   \n",
       "5                Piauí                 2201903       Bom Jesus    6.3   \n",
       "6                Ceará                 2304400       Fortaleza    6.9   \n",
       "7           Pernambuco                 2611606          Recife    7.1   \n",
       "8              Sergipe                 2806701   São Cristóvão    6.5   \n",
       "9                Bahia                 2927408        Salvador    7.1   \n",
       "10        Minas Gerais                 3106200  Belo Horizonte    6.0   \n",
       "11        Minas Gerais                 3136702    Juiz de Fora    6.3   \n",
       "12        Minas Gerais                 3170206      Uberlândia    6.4   \n",
       "13      Rio de Janeiro                 3304557  Rio de Janeiro    5.7   \n",
       "14              Paraná                 4106902        Curitiba    6.9   \n",
       "15      Santa Catarina                 4205407   Florianópolis    5.7   \n",
       "16   Rio Grande do Sul                 4314902    Porto Alegre    5.8   \n",
       "17   Rio Grande do Sul                 4316907     Santa Maria    7.3   \n",
       "18  Mato Grosso do Sul                 5002704    Campo Grande    7.1   \n",
       "19               Goiás                 5208707         Goiânia    5.3   \n",
       "\n",
       "   Municipio   Ano  \n",
       "0     120040  2009  \n",
       "1     130260  2009  \n",
       "2     140010  2009  \n",
       "3     150140  2009  \n",
       "4     211130  2009  \n",
       "5     220190  2009  \n",
       "6     230440  2009  \n",
       "7     261160  2009  \n",
       "8     280670  2009  \n",
       "9     292740  2009  \n",
       "10    310620  2009  \n",
       "11    313670  2009  \n",
       "12    317020  2009  \n",
       "13    330455  2009  \n",
       "14    410690  2009  \n",
       "15    420540  2009  \n",
       "16    431490  2009  \n",
       "17    431690  2009  \n",
       "18    500270  2009  \n",
       "19    520870  2009  "
      ]
     },
     "execution_count": 75,
     "metadata": {},
     "output_type": "execute_result"
    }
   ],
   "source": [
    "dadosFinais"
   ]
  },
  {
   "cell_type": "markdown",
   "metadata": {},
   "source": [
    "## Para terminar: um gráfico\n",
    "\n",
    "Para usarmos gráficos em notebooks, devemos incluir no notebook o comando\n",
    "\n",
    "% matplotlib inline\n",
    "\n",
    "ou \n",
    "\n",
    "% matplotlib notebook\n",
    "\n",
    "Como isso é geralmente feito usando a primeira célula do notebook, mas no nosso caso não gostaríamos de sacrificar a legibilidade do documento, usamos uma nbextension chamada init_cell para que este comando seja executado na inicialização do notebook ([Detalhes](#sobre_inicializacao))\n",
    "\n",
    "Primeiramente, vamos importar a biblioteca matplotlib."
   ]
  },
  {
   "cell_type": "code",
   "execution_count": 76,
   "metadata": {},
   "outputs": [],
   "source": [
    "import matplotlib.pyplot as plt"
   ]
  },
  {
   "cell_type": "markdown",
   "metadata": {},
   "source": [
    "Em seguida, vamos substituir os índices da tabela dadosFinais pelos nomes dos municípios listados, já que gostaríamos de fazer um gráfico do valor do IDEB por município."
   ]
  },
  {
   "cell_type": "code",
   "execution_count": 92,
   "metadata": {},
   "outputs": [
    {
     "ename": "KeyError",
     "evalue": "'Nome_Município'",
     "output_type": "error",
     "traceback": [
      "\u001b[0;31m---------------------------------------------------------------------------\u001b[0m",
      "\u001b[0;31mKeyError\u001b[0m                                  Traceback (most recent call last)",
      "\u001b[0;32m/opt/miniconda3/lib/python3.6/site-packages/pandas/indexes/base.py\u001b[0m in \u001b[0;36mget_loc\u001b[0;34m(self, key, method, tolerance)\u001b[0m\n\u001b[1;32m   2133\u001b[0m             \u001b[0;32mtry\u001b[0m\u001b[0;34m:\u001b[0m\u001b[0;34m\u001b[0m\u001b[0m\n\u001b[0;32m-> 2134\u001b[0;31m                 \u001b[0;32mreturn\u001b[0m \u001b[0mself\u001b[0m\u001b[0;34m.\u001b[0m\u001b[0m_engine\u001b[0m\u001b[0;34m.\u001b[0m\u001b[0mget_loc\u001b[0m\u001b[0;34m(\u001b[0m\u001b[0mkey\u001b[0m\u001b[0;34m)\u001b[0m\u001b[0;34m\u001b[0m\u001b[0m\n\u001b[0m\u001b[1;32m   2135\u001b[0m             \u001b[0;32mexcept\u001b[0m \u001b[0mKeyError\u001b[0m\u001b[0;34m:\u001b[0m\u001b[0;34m\u001b[0m\u001b[0m\n",
      "\u001b[0;32mpandas/index.pyx\u001b[0m in \u001b[0;36mpandas.index.IndexEngine.get_loc (pandas/index.c:4433)\u001b[0;34m()\u001b[0m\n",
      "\u001b[0;32mpandas/index.pyx\u001b[0m in \u001b[0;36mpandas.index.IndexEngine.get_loc (pandas/index.c:4279)\u001b[0;34m()\u001b[0m\n",
      "\u001b[0;32mpandas/src/hashtable_class_helper.pxi\u001b[0m in \u001b[0;36mpandas.hashtable.PyObjectHashTable.get_item (pandas/hashtable.c:13742)\u001b[0;34m()\u001b[0m\n",
      "\u001b[0;32mpandas/src/hashtable_class_helper.pxi\u001b[0m in \u001b[0;36mpandas.hashtable.PyObjectHashTable.get_item (pandas/hashtable.c:13696)\u001b[0;34m()\u001b[0m\n",
      "\u001b[0;31mKeyError\u001b[0m: 'Nome_Município'",
      "\nDuring handling of the above exception, another exception occurred:\n",
      "\u001b[0;31mKeyError\u001b[0m                                  Traceback (most recent call last)",
      "\u001b[0;32m<ipython-input-92-9b6c50c0a7c0>\u001b[0m in \u001b[0;36m<module>\u001b[0;34m()\u001b[0m\n\u001b[0;32m----> 1\u001b[0;31m \u001b[0mdadosFinais\u001b[0m\u001b[0;34m.\u001b[0m\u001b[0mset_index\u001b[0m\u001b[0;34m(\u001b[0m\u001b[0;34m[\u001b[0m\u001b[0;34m\"Nome_Município\"\u001b[0m\u001b[0;34m]\u001b[0m\u001b[0;34m,\u001b[0m \u001b[0minplace\u001b[0m\u001b[0;34m=\u001b[0m\u001b[0;32mTrue\u001b[0m\u001b[0;34m)\u001b[0m\u001b[0;34m\u001b[0m\u001b[0m\n\u001b[0m",
      "\u001b[0;32m/opt/miniconda3/lib/python3.6/site-packages/pandas/core/frame.py\u001b[0m in \u001b[0;36mset_index\u001b[0;34m(self, keys, drop, append, inplace, verify_integrity)\u001b[0m\n\u001b[1;32m   2915\u001b[0m                 \u001b[0mnames\u001b[0m\u001b[0;34m.\u001b[0m\u001b[0mappend\u001b[0m\u001b[0;34m(\u001b[0m\u001b[0;32mNone\u001b[0m\u001b[0;34m)\u001b[0m\u001b[0;34m\u001b[0m\u001b[0m\n\u001b[1;32m   2916\u001b[0m             \u001b[0;32melse\u001b[0m\u001b[0;34m:\u001b[0m\u001b[0;34m\u001b[0m\u001b[0m\n\u001b[0;32m-> 2917\u001b[0;31m                 \u001b[0mlevel\u001b[0m \u001b[0;34m=\u001b[0m \u001b[0mframe\u001b[0m\u001b[0;34m[\u001b[0m\u001b[0mcol\u001b[0m\u001b[0;34m]\u001b[0m\u001b[0;34m.\u001b[0m\u001b[0m_values\u001b[0m\u001b[0;34m\u001b[0m\u001b[0m\n\u001b[0m\u001b[1;32m   2918\u001b[0m                 \u001b[0mnames\u001b[0m\u001b[0;34m.\u001b[0m\u001b[0mappend\u001b[0m\u001b[0;34m(\u001b[0m\u001b[0mcol\u001b[0m\u001b[0;34m)\u001b[0m\u001b[0;34m\u001b[0m\u001b[0m\n\u001b[1;32m   2919\u001b[0m                 \u001b[0;32mif\u001b[0m \u001b[0mdrop\u001b[0m\u001b[0;34m:\u001b[0m\u001b[0;34m\u001b[0m\u001b[0m\n",
      "\u001b[0;32m/opt/miniconda3/lib/python3.6/site-packages/pandas/core/frame.py\u001b[0m in \u001b[0;36m__getitem__\u001b[0;34m(self, key)\u001b[0m\n\u001b[1;32m   2057\u001b[0m             \u001b[0;32mreturn\u001b[0m \u001b[0mself\u001b[0m\u001b[0;34m.\u001b[0m\u001b[0m_getitem_multilevel\u001b[0m\u001b[0;34m(\u001b[0m\u001b[0mkey\u001b[0m\u001b[0;34m)\u001b[0m\u001b[0;34m\u001b[0m\u001b[0m\n\u001b[1;32m   2058\u001b[0m         \u001b[0;32melse\u001b[0m\u001b[0;34m:\u001b[0m\u001b[0;34m\u001b[0m\u001b[0m\n\u001b[0;32m-> 2059\u001b[0;31m             \u001b[0;32mreturn\u001b[0m \u001b[0mself\u001b[0m\u001b[0;34m.\u001b[0m\u001b[0m_getitem_column\u001b[0m\u001b[0;34m(\u001b[0m\u001b[0mkey\u001b[0m\u001b[0;34m)\u001b[0m\u001b[0;34m\u001b[0m\u001b[0m\n\u001b[0m\u001b[1;32m   2060\u001b[0m \u001b[0;34m\u001b[0m\u001b[0m\n\u001b[1;32m   2061\u001b[0m     \u001b[0;32mdef\u001b[0m \u001b[0m_getitem_column\u001b[0m\u001b[0;34m(\u001b[0m\u001b[0mself\u001b[0m\u001b[0;34m,\u001b[0m \u001b[0mkey\u001b[0m\u001b[0;34m)\u001b[0m\u001b[0;34m:\u001b[0m\u001b[0;34m\u001b[0m\u001b[0m\n",
      "\u001b[0;32m/opt/miniconda3/lib/python3.6/site-packages/pandas/core/frame.py\u001b[0m in \u001b[0;36m_getitem_column\u001b[0;34m(self, key)\u001b[0m\n\u001b[1;32m   2064\u001b[0m         \u001b[0;31m# get column\u001b[0m\u001b[0;34m\u001b[0m\u001b[0;34m\u001b[0m\u001b[0m\n\u001b[1;32m   2065\u001b[0m         \u001b[0;32mif\u001b[0m \u001b[0mself\u001b[0m\u001b[0;34m.\u001b[0m\u001b[0mcolumns\u001b[0m\u001b[0;34m.\u001b[0m\u001b[0mis_unique\u001b[0m\u001b[0;34m:\u001b[0m\u001b[0;34m\u001b[0m\u001b[0m\n\u001b[0;32m-> 2066\u001b[0;31m             \u001b[0;32mreturn\u001b[0m \u001b[0mself\u001b[0m\u001b[0;34m.\u001b[0m\u001b[0m_get_item_cache\u001b[0m\u001b[0;34m(\u001b[0m\u001b[0mkey\u001b[0m\u001b[0;34m)\u001b[0m\u001b[0;34m\u001b[0m\u001b[0m\n\u001b[0m\u001b[1;32m   2067\u001b[0m \u001b[0;34m\u001b[0m\u001b[0m\n\u001b[1;32m   2068\u001b[0m         \u001b[0;31m# duplicate columns & possible reduce dimensionality\u001b[0m\u001b[0;34m\u001b[0m\u001b[0;34m\u001b[0m\u001b[0m\n",
      "\u001b[0;32m/opt/miniconda3/lib/python3.6/site-packages/pandas/core/generic.py\u001b[0m in \u001b[0;36m_get_item_cache\u001b[0;34m(self, item)\u001b[0m\n\u001b[1;32m   1384\u001b[0m         \u001b[0mres\u001b[0m \u001b[0;34m=\u001b[0m \u001b[0mcache\u001b[0m\u001b[0;34m.\u001b[0m\u001b[0mget\u001b[0m\u001b[0;34m(\u001b[0m\u001b[0mitem\u001b[0m\u001b[0;34m)\u001b[0m\u001b[0;34m\u001b[0m\u001b[0m\n\u001b[1;32m   1385\u001b[0m         \u001b[0;32mif\u001b[0m \u001b[0mres\u001b[0m \u001b[0;32mis\u001b[0m \u001b[0;32mNone\u001b[0m\u001b[0;34m:\u001b[0m\u001b[0;34m\u001b[0m\u001b[0m\n\u001b[0;32m-> 1386\u001b[0;31m             \u001b[0mvalues\u001b[0m \u001b[0;34m=\u001b[0m \u001b[0mself\u001b[0m\u001b[0;34m.\u001b[0m\u001b[0m_data\u001b[0m\u001b[0;34m.\u001b[0m\u001b[0mget\u001b[0m\u001b[0;34m(\u001b[0m\u001b[0mitem\u001b[0m\u001b[0;34m)\u001b[0m\u001b[0;34m\u001b[0m\u001b[0m\n\u001b[0m\u001b[1;32m   1387\u001b[0m             \u001b[0mres\u001b[0m \u001b[0;34m=\u001b[0m \u001b[0mself\u001b[0m\u001b[0;34m.\u001b[0m\u001b[0m_box_item_values\u001b[0m\u001b[0;34m(\u001b[0m\u001b[0mitem\u001b[0m\u001b[0;34m,\u001b[0m \u001b[0mvalues\u001b[0m\u001b[0;34m)\u001b[0m\u001b[0;34m\u001b[0m\u001b[0m\n\u001b[1;32m   1388\u001b[0m             \u001b[0mcache\u001b[0m\u001b[0;34m[\u001b[0m\u001b[0mitem\u001b[0m\u001b[0;34m]\u001b[0m \u001b[0;34m=\u001b[0m \u001b[0mres\u001b[0m\u001b[0;34m\u001b[0m\u001b[0m\n",
      "\u001b[0;32m/opt/miniconda3/lib/python3.6/site-packages/pandas/core/internals.py\u001b[0m in \u001b[0;36mget\u001b[0;34m(self, item, fastpath)\u001b[0m\n\u001b[1;32m   3541\u001b[0m \u001b[0;34m\u001b[0m\u001b[0m\n\u001b[1;32m   3542\u001b[0m             \u001b[0;32mif\u001b[0m \u001b[0;32mnot\u001b[0m \u001b[0misnull\u001b[0m\u001b[0;34m(\u001b[0m\u001b[0mitem\u001b[0m\u001b[0;34m)\u001b[0m\u001b[0;34m:\u001b[0m\u001b[0;34m\u001b[0m\u001b[0m\n\u001b[0;32m-> 3543\u001b[0;31m                 \u001b[0mloc\u001b[0m \u001b[0;34m=\u001b[0m \u001b[0mself\u001b[0m\u001b[0;34m.\u001b[0m\u001b[0mitems\u001b[0m\u001b[0;34m.\u001b[0m\u001b[0mget_loc\u001b[0m\u001b[0;34m(\u001b[0m\u001b[0mitem\u001b[0m\u001b[0;34m)\u001b[0m\u001b[0;34m\u001b[0m\u001b[0m\n\u001b[0m\u001b[1;32m   3544\u001b[0m             \u001b[0;32melse\u001b[0m\u001b[0;34m:\u001b[0m\u001b[0;34m\u001b[0m\u001b[0m\n\u001b[1;32m   3545\u001b[0m                 \u001b[0mindexer\u001b[0m \u001b[0;34m=\u001b[0m \u001b[0mnp\u001b[0m\u001b[0;34m.\u001b[0m\u001b[0marange\u001b[0m\u001b[0;34m(\u001b[0m\u001b[0mlen\u001b[0m\u001b[0;34m(\u001b[0m\u001b[0mself\u001b[0m\u001b[0;34m.\u001b[0m\u001b[0mitems\u001b[0m\u001b[0;34m)\u001b[0m\u001b[0;34m)\u001b[0m\u001b[0;34m[\u001b[0m\u001b[0misnull\u001b[0m\u001b[0;34m(\u001b[0m\u001b[0mself\u001b[0m\u001b[0;34m.\u001b[0m\u001b[0mitems\u001b[0m\u001b[0;34m)\u001b[0m\u001b[0;34m]\u001b[0m\u001b[0;34m\u001b[0m\u001b[0m\n",
      "\u001b[0;32m/opt/miniconda3/lib/python3.6/site-packages/pandas/indexes/base.py\u001b[0m in \u001b[0;36mget_loc\u001b[0;34m(self, key, method, tolerance)\u001b[0m\n\u001b[1;32m   2134\u001b[0m                 \u001b[0;32mreturn\u001b[0m \u001b[0mself\u001b[0m\u001b[0;34m.\u001b[0m\u001b[0m_engine\u001b[0m\u001b[0;34m.\u001b[0m\u001b[0mget_loc\u001b[0m\u001b[0;34m(\u001b[0m\u001b[0mkey\u001b[0m\u001b[0;34m)\u001b[0m\u001b[0;34m\u001b[0m\u001b[0m\n\u001b[1;32m   2135\u001b[0m             \u001b[0;32mexcept\u001b[0m \u001b[0mKeyError\u001b[0m\u001b[0;34m:\u001b[0m\u001b[0;34m\u001b[0m\u001b[0m\n\u001b[0;32m-> 2136\u001b[0;31m                 \u001b[0;32mreturn\u001b[0m \u001b[0mself\u001b[0m\u001b[0;34m.\u001b[0m\u001b[0m_engine\u001b[0m\u001b[0;34m.\u001b[0m\u001b[0mget_loc\u001b[0m\u001b[0;34m(\u001b[0m\u001b[0mself\u001b[0m\u001b[0;34m.\u001b[0m\u001b[0m_maybe_cast_indexer\u001b[0m\u001b[0;34m(\u001b[0m\u001b[0mkey\u001b[0m\u001b[0;34m)\u001b[0m\u001b[0;34m)\u001b[0m\u001b[0;34m\u001b[0m\u001b[0m\n\u001b[0m\u001b[1;32m   2137\u001b[0m \u001b[0;34m\u001b[0m\u001b[0m\n\u001b[1;32m   2138\u001b[0m         \u001b[0mindexer\u001b[0m \u001b[0;34m=\u001b[0m \u001b[0mself\u001b[0m\u001b[0;34m.\u001b[0m\u001b[0mget_indexer\u001b[0m\u001b[0;34m(\u001b[0m\u001b[0;34m[\u001b[0m\u001b[0mkey\u001b[0m\u001b[0;34m]\u001b[0m\u001b[0;34m,\u001b[0m \u001b[0mmethod\u001b[0m\u001b[0;34m=\u001b[0m\u001b[0mmethod\u001b[0m\u001b[0;34m,\u001b[0m \u001b[0mtolerance\u001b[0m\u001b[0;34m=\u001b[0m\u001b[0mtolerance\u001b[0m\u001b[0;34m)\u001b[0m\u001b[0;34m\u001b[0m\u001b[0m\n",
      "\u001b[0;32mpandas/index.pyx\u001b[0m in \u001b[0;36mpandas.index.IndexEngine.get_loc (pandas/index.c:4433)\u001b[0;34m()\u001b[0m\n",
      "\u001b[0;32mpandas/index.pyx\u001b[0m in \u001b[0;36mpandas.index.IndexEngine.get_loc (pandas/index.c:4279)\u001b[0;34m()\u001b[0m\n",
      "\u001b[0;32mpandas/src/hashtable_class_helper.pxi\u001b[0m in \u001b[0;36mpandas.hashtable.PyObjectHashTable.get_item (pandas/hashtable.c:13742)\u001b[0;34m()\u001b[0m\n",
      "\u001b[0;32mpandas/src/hashtable_class_helper.pxi\u001b[0m in \u001b[0;36mpandas.hashtable.PyObjectHashTable.get_item (pandas/hashtable.c:13696)\u001b[0;34m()\u001b[0m\n",
      "\u001b[0;31mKeyError\u001b[0m: 'Nome_Município'"
     ]
    }
   ],
   "source": [
    "dadosFinais.set_index([\"Nome_Município\"], inplace=True)"
   ]
  },
  {
   "cell_type": "markdown",
   "metadata": {},
   "source": [
    "Finalmente, como nos interessa um gráfico do IDEB por município, só vamos utilizar os dados da coluna \"Valor\" na tabela dadosFinais (observe que o resultado desta operação é uma Series)"
   ]
  },
  {
   "cell_type": "code",
   "execution_count": 82,
   "metadata": {},
   "outputs": [
    {
     "data": {
      "text/plain": [
       "Nome_Município\n",
       "Rio Branco        4.7\n",
       "Manaus            6.0\n",
       "Boa Vista         5.9\n",
       "Belém             5.5\n",
       "São Luís          4.0\n",
       "Bom Jesus         6.3\n",
       "Fortaleza         6.9\n",
       "Recife            7.1\n",
       "São Cristóvão     6.5\n",
       "Salvador          7.1\n",
       "Belo Horizonte    6.0\n",
       "Juiz de Fora      6.3\n",
       "Uberlândia        6.4\n",
       "Rio de Janeiro    5.7\n",
       "Curitiba          6.9\n",
       "Florianópolis     5.7\n",
       "Porto Alegre      5.8\n",
       "Santa Maria       7.3\n",
       "Campo Grande      7.1\n",
       "Goiânia           5.3\n",
       "Name: Valor, dtype: float64"
      ]
     },
     "execution_count": 82,
     "metadata": {},
     "output_type": "execute_result"
    }
   ],
   "source": [
    "dadosFinais[\"Valor\"]"
   ]
  },
  {
   "cell_type": "markdown",
   "metadata": {},
   "source": [
    "Estamos prontos para fazer nosso gráfico."
   ]
  },
  {
   "cell_type": "code",
   "execution_count": 91,
   "metadata": {},
   "outputs": [
    {
     "data": {
      "text/plain": [
       "<matplotlib.text.Text at 0x7f66d061e6a0>"
      ]
     },
     "execution_count": 91,
     "metadata": {},
     "output_type": "execute_result"
    },
    {
     "data": {
      "image/png": "[encoded data removed]",
      "text/plain": [
       "<matplotlib.figure.Figure at 0x7f66cc64ae80>"
      ]
     },
     "metadata": {},
     "output_type": "display_data"
    }
   ],
   "source": [
    "dadosFinais[\"Valor\"].plot(kind='barh')\n",
    "plt.title(\"IDEB por Município (Dados de 2009)\")"
   ]
  },
  {
   "cell_type": "markdown",
   "metadata": {},
   "source": [
    "## Comentários sobre a geração dos documentos e do script \n",
    "\n",
    "Para converter este notebook para um script Python, use o comando"
   ]
  },
  {
   "cell_type": "raw",
   "metadata": {
    "tags": [
     "codecomment",
     "verbatim"
    ]
   },
   "source": [
    "jupyter-nbconvert --to python 'Exemplo1.ipynb' --template=removeextracode.tpl"
   ]
  },
  {
   "cell_type": "markdown",
   "metadata": {},
   "source": [
    "O arquivo removeextracode.tpl tem o seguinte conteúdo:"
   ]
  },
  {
   "cell_type": "raw",
   "metadata": {
    "tags": [
     "codecomment",
     "verbatim"
    ]
   },
   "source": [
    "{% extends 'python.tpl'%}\n",
    "\n",
    "{% block input %}\n",
    "{% if 'codecomment' in cell['metadata'].get('tags', []) %}\n",
    "   {{ cell.source | comment_lines }}\n",
    "{% else %}\n",
    "   {{ cell.source | ipython2python }}\n",
    "{% endif %}\n",
    "{% endblock input %}"
   ]
  },
  {
   "cell_type": "markdown",
   "metadata": {},
   "source": [
    "## Célula de Inicialização <a id='sobre_inicializacao'></a>\n",
    "\n",
    "Através da extensão \"init_cell\" do nbextensions, é possível alterar a ordem de inicialização das células do notebook. Se olharmos os metadados da célula abaixo, veremos que ela está marcada pra ser executada antes de todas as outras células, obtendo-se assim o resultado desejado (esta célula permite que os gráficos da matploblib sejam renderizados dentro do notebook)."
   ]
  },
  {
   "cell_type": "code",
   "execution_count": 79,
   "metadata": {
    "init_cell": true,
    "tags": [
     "codecomment"
    ]
   },
   "outputs": [],
   "source": [
    "%matplotlib inline"
   ]
  }
 ],
 "metadata": {
  "celltoolbar": "Tags",
  "kernelspec": {
   "display_name": "Python 3",
   "language": "python",
   "name": "python3"
  },
  "language_info": {
   "codemirror_mode": {
    "name": "ipython",
    "version": 3
   },
   "file_extension": ".py",
   "mimetype": "text/x-python",
   "name": "python",
   "nbconvert_exporter": "python",
   "pygments_lexer": "ipython3",
   "version": "3.6.0"
  },
  "latex_metadata": {
   "affiliation": "Universidade Federal de Santa Catarina, Florianópolis",
   "author": "Melissa Weber Mendonça",
   "title": "Exemplo: TDC Floripa 2017"
  }
 },
 "nbformat": 4,
 "nbformat_minor": 2
}
